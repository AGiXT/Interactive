{
 "cells": [
  {
   "cell_type": "code",
   "execution_count": 11,
   "metadata": {},
   "outputs": [
    {
     "name": "stdout",
     "output_type": "stream",
     "text": [
      "Tokens: 121342\n"
     ]
    }
   ],
   "source": [
    "import os\n",
    "import tiktoken\n",
    "\n",
    "\n",
    "def codebase_to_md(directory):\n",
    "    js_files = []\n",
    "    ts_files = []\n",
    "    json_files = []\n",
    "    output_file = \"output.md\"\n",
    "    if os.path.exists(output_file):\n",
    "        os.remove(output_file)\n",
    "    for root, dirs, files in os.walk(directory):\n",
    "        for file in files:\n",
    "            if \"node_modules\" in root or \"node_modules\" in file:\n",
    "                continue\n",
    "            if \"package-lock.json\" in file:\n",
    "                continue\n",
    "            if \".stories.\" in file:\n",
    "                continue\n",
    "            if \".next\" in root or \".next\" in file:\n",
    "                continue\n",
    "            if \"components/ui\" in root:\n",
    "                continue\n",
    "            if \"components/home\" in root:\n",
    "                continue\n",
    "            if \"docs-agixt\" in root:\n",
    "                continue\n",
    "            if \"docs\" in root:\n",
    "                continue\n",
    "            if \".eslintrc.json\" in file:\n",
    "                continue\n",
    "            if file.endswith(\".js\") or file.endswith(\".jsx\"):\n",
    "                js_files.append(os.path.join(root, file))\n",
    "            elif file.endswith(\".ts\") or file.endswith(\".tsx\"):\n",
    "                ts_files.append(os.path.join(root, file))\n",
    "            elif file.endswith(\".json\"):\n",
    "                json_files.append(os.path.join(root, file))\n",
    "\n",
    "    if os.path.exists(output_file):\n",
    "        os.remove(output_file)\n",
    "\n",
    "    with open(output_file, \"w\", encoding=\"utf-8\") as markdown_file:\n",
    "        for file_paths, file_type in [\n",
    "            (js_files, \"javascript\"),\n",
    "            (ts_files, \"typescript\"),\n",
    "            (json_files, \"json\"),\n",
    "        ]:\n",
    "            for file_path in file_paths:\n",
    "                # Make sure the file isn't output.md\n",
    "                if output_file in file_path:\n",
    "                    continue\n",
    "                markdown_file.write(f\"**{file_path}**\\n\")\n",
    "                with open(file_path, \"r\", encoding=\"utf-8\") as code_file:\n",
    "                    content = code_file.read()\n",
    "                    markdown_file.write(f\"```{file_type}\\n{content}\\n```\\n\\n\")\n",
    "    with open(output_file, \"r\", encoding=\"utf-8\") as markdown_file:\n",
    "        content = markdown_file.read()\n",
    "    content = content.replace(\"<|endoftext|>\", \"\")\n",
    "    encoding = tiktoken.get_encoding(\"cl100k_base\")\n",
    "    tokens = len(encoding.encode(content))\n",
    "    return content, tokens\n",
    "\n",
    "\n",
    "directory = \".\"  # Replace with your folder path\n",
    "content, tokens = codebase_to_md(directory)\n",
    "print(f\"Tokens: {tokens}\")"
   ]
  }
 ],
 "metadata": {
  "kernelspec": {
   "display_name": "Python 3",
   "language": "python",
   "name": "python3"
  },
  "language_info": {
   "codemirror_mode": {
    "name": "ipython",
    "version": 3
   },
   "file_extension": ".py",
   "mimetype": "text/x-python",
   "name": "python",
   "nbconvert_exporter": "python",
   "pygments_lexer": "ipython3",
   "version": "3.10.16"
  }
 },
 "nbformat": 4,
 "nbformat_minor": 2
}
